{
 "cells": [
  {
   "cell_type": "code",
   "execution_count": 2,
   "metadata": {},
   "outputs": [],
   "source": [
    "import random"
   ]
  },
  {
   "cell_type": "code",
   "execution_count": 7,
   "metadata": {},
   "outputs": [
    {
     "name": "stdout",
     "output_type": "stream",
     "text": [
      "Welcome to Random Password Generator\n",
      "This is your New Password\n",
      "Amount of upper case letter:2\n",
      "Amount of lower case letter:3\n",
      "Amount of special characters:2\n",
      "Amount of numbers:3\n",
      "xb6746%nJJ\n"
     ]
    }
   ],
   "source": [
    "char1= 'ABCDEFGHIJKLMNOPQRSTUVWXYZ'\n",
    "char2= char1.lower()\n",
    "char3= '24$54%4%\\667'\n",
    "char4= '1234567890'\n",
    "\n",
    "def message():\n",
    "    print ('Welcome to Random Password Generator')\n",
    "    print ('This is your New Password')\n",
    "    print (userGen())\n",
    "    \n",
    "def userGen():\n",
    "    upper= int(input('Amount of upper case letter:'))\n",
    "    lower= int(input('Amount of lower case letter:'))\n",
    "    spec= int(input('Amount of special characters:'))\n",
    "    num= int(input('Amount of numbers:'))\n",
    "    \n",
    "    return passGen(upper,lower,spec,num)\n",
    "\n",
    "def passGen(upper,lower,spec,num):\n",
    "    new_password=\"\"\n",
    "    for i in range(upper):\n",
    "        new_password += random.choice(char1)\n",
    "    for x in range(lower):\n",
    "        new_password += random.choice(char2)\n",
    "    for y in range(spec):\n",
    "        new_password += random.choice (char3)\n",
    "    for m in range(num):\n",
    "        new_password += random.choice (char4)\n",
    "    pass_word = list(new_password)\n",
    "    shuff=random.shuffle(pass_word)\n",
    "    new_pass =''.join(pass_word)\n",
    "    return new_pass\n",
    "\n",
    "message()"
   ]
  }
 ],
 "metadata": {
  "kernelspec": {
   "display_name": "Python 3",
   "language": "python",
   "name": "python3"
  },
  "language_info": {
   "codemirror_mode": {
    "name": "ipython",
    "version": 3
   },
   "file_extension": ".py",
   "mimetype": "text/x-python",
   "name": "python",
   "nbconvert_exporter": "python",
   "pygments_lexer": "ipython3",
   "version": "3.7.6"
  }
 },
 "nbformat": 4,
 "nbformat_minor": 4
}
